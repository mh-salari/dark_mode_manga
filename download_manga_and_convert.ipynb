{
 "cells": [
  {
   "cell_type": "code",
   "execution_count": 1,
   "id": "38d2aa0a",
   "metadata": {},
   "outputs": [],
   "source": [
    "import requests\n",
    "from bs4 import BeautifulSoup"
   ]
  },
  {
   "cell_type": "code",
   "execution_count": 2,
   "id": "0c75a5f3",
   "metadata": {},
   "outputs": [],
   "source": [
    "proxy_host = \"127.0.0.1\"\n",
    "proxy_port = \"9090\"\n",
    "proxy_auth = \":\"\n",
    "proxies = {\n",
    "       \"https\": \"https://{}@{}:{}/\".format(proxy_auth, proxy_host, proxy_port),\n",
    "       \"http\": \"http://{}@{}:{}/\".format(proxy_auth, proxy_host, proxy_port)\n",
    "}\n",
    "\n",
    "headers = {\n",
    "    'User-Agent': 'Mozilla/5.0 (X11; Ubuntu; Linux x86_64; rv:94.0) Gecko/20100101 Firefox/94.0',\n",
    "    'Accept': 'text/html,application/xhtml+xml,application/xml;q=0.9,image/avif,image/webp,*/*;q=0.8',\n",
    "    'Accept-Language': 'en-US,en;q=0.5',\n",
    "    'Connection': 'keep-alive',\n",
    "    'Upgrade-Insecure-Requests': '1',\n",
    "    'Sec-GPC': '1',\n",
    "    'If-Modified-Since': 'Friday, 03 December 2021 03:30:27',\n",
    "    'Cache-Control': 'max-age=0',\n",
    "}"
   ]
  },
  {
   "cell_type": "code",
   "execution_count": 3,
   "id": "45761a0c",
   "metadata": {},
   "outputs": [],
   "source": [
    "ousama_ranking = \"https://readmanganato.com/manga-mo989871\"\n",
    "one_piece = \"https://www.readm.org/manga/5404\""
   ]
  },
  {
   "cell_type": "code",
   "execution_count": 4,
   "id": "3d4ab99e",
   "metadata": {},
   "outputs": [],
   "source": [
    "response = requests.get(ousama_ranking, headers=headers, ) #  proxies=proxies\n",
    "if response.status_code != 200:\n",
    "    raise Exception(f\"request error{r.status_code}\")"
   ]
  },
  {
   "cell_type": "code",
   "execution_count": 5,
   "id": "87d9880c",
   "metadata": {},
   "outputs": [],
   "source": [
    "soup = BeautifulSoup(response.content, features=\"lxml\")"
   ]
  },
  {
   "cell_type": "code",
   "execution_count": 6,
   "id": "c15722df",
   "metadata": {},
   "outputs": [],
   "source": [
    "chapters = [chapter[\"href\"] for chapter in soup.findAll(\"a\", {\"class\": \"chapter-name text-nowrap\"})]"
   ]
  },
  {
   "cell_type": "code",
   "execution_count": 7,
   "id": "c19598db",
   "metadata": {},
   "outputs": [
    {
     "data": {
      "text/plain": [
       "'https://readmanganato.com/manga-mo989871/chapter-23'"
      ]
     },
     "execution_count": 7,
     "metadata": {},
     "output_type": "execute_result"
    }
   ],
   "source": [
    "chapters[0]"
   ]
  },
  {
   "cell_type": "code",
   "execution_count": 8,
   "id": "cf5c7a66",
   "metadata": {},
   "outputs": [],
   "source": [
    "from selenium import webdriver\n",
    "from selenium.webdriver.firefox.options import Options\n",
    "options = Options()\n",
    "options.headless = True\n",
    "driver = webdriver.Firefox(options=options)"
   ]
  },
  {
   "cell_type": "code",
   "execution_count": null,
   "id": "e010edd5",
   "metadata": {},
   "outputs": [],
   "source": [
    "driver.get(chapters[0])"
   ]
  },
  {
   "cell_type": "code",
   "execution_count": 9,
   "id": "bf165df2",
   "metadata": {},
   "outputs": [],
   "source": [
    "list_of_img = driver.find_elements_by_tag_name('img')"
   ]
  },
  {
   "cell_type": "code",
   "execution_count": 14,
   "id": "6dd94db5",
   "metadata": {},
   "outputs": [],
   "source": [
    "selenium_imgs = [l for l in list_of_img if \"chapter\" in l.get_attribute(\"src\")]"
   ]
  },
  {
   "cell_type": "code",
   "execution_count": 15,
   "id": "a7d6d65e",
   "metadata": {},
   "outputs": [
    {
     "name": "stdout",
     "output_type": "stream",
     "text": [
      "15\n"
     ]
    }
   ],
   "source": [
    "print(len(selenium_imgs))"
   ]
  },
  {
   "cell_type": "code",
   "execution_count": 30,
   "id": "bd2ffbde",
   "metadata": {},
   "outputs": [],
   "source": [
    "def sace_to_pdf(images, filen_name):\n",
    "    images[0].save(\n",
    "        f\"{filen_name}.pdf\",\n",
    "        \"PDF\",\n",
    "        resolution=100.0,\n",
    "        save_all=True,\n",
    "        append_images=images[1:],\n",
    "    )"
   ]
  },
  {
   "cell_type": "code",
   "execution_count": 21,
   "id": "a86d51be",
   "metadata": {},
   "outputs": [],
   "source": [
    "from PIL import Image\n",
    "from io import BytesIO"
   ]
  },
  {
   "cell_type": "code",
   "execution_count": 22,
   "id": "dbac3fc6",
   "metadata": {},
   "outputs": [],
   "source": [
    "# for img in selenium_imgs:\n",
    "#     image_url = img.get_attribute(\"src\")\n",
    "#     chapter_name = os.path.basename(os.path.dirname(image_url))\n",
    "#     file_name = os.path.basename(image_url)\n",
    "#     with open(f\"{chapter_name}-{file_name}\", 'wb') as file:\n",
    "#         file.write(img.screenshot_as_png)"
   ]
  },
  {
   "cell_type": "code",
   "execution_count": 23,
   "id": "bd0974ad",
   "metadata": {},
   "outputs": [],
   "source": [
    "images = [Image.open(BytesIO(image.screenshot_as_png)).convert('RGB') for image in selenium_imgs]"
   ]
  },
  {
   "cell_type": "code",
   "execution_count": 26,
   "id": "271c9252",
   "metadata": {},
   "outputs": [],
   "source": [
    "import os"
   ]
  },
  {
   "cell_type": "code",
   "execution_count": 27,
   "id": "967f22c0",
   "metadata": {},
   "outputs": [],
   "source": [
    "image_url = selenium_imgs[0].get_attribute(\"src\")\n",
    "chapter_name = os.path.basename(os.path.dirname(image_url))"
   ]
  },
  {
   "cell_type": "code",
   "execution_count": 28,
   "id": "0e7ea0ab",
   "metadata": {},
   "outputs": [
    {
     "data": {
      "text/plain": [
       "'vol2_chapter_23'"
      ]
     },
     "execution_count": 28,
     "metadata": {},
     "output_type": "execute_result"
    }
   ],
   "source": [
    "chapter_name"
   ]
  },
  {
   "cell_type": "code",
   "execution_count": 31,
   "id": "6af83134",
   "metadata": {},
   "outputs": [],
   "source": [
    "sace_to_pdf(images, f\"{chapter_name}-Original\")"
   ]
  },
  {
   "cell_type": "code",
   "execution_count": 37,
   "id": "28f055e3",
   "metadata": {},
   "outputs": [],
   "source": [
    "import numpy as np\n",
    "# https://answers.opencv.org/question/219194/black-and-white-image-detection/\n",
    "def detect_color_image(img):\n",
    "    hsv_img = cv2.cvtColor(img, cv2.COLOR_BGR2HSV)\n",
    "    h,s,v = cv2.split(hsv_img)   \n",
    "    \n",
    "    return len(np.unique(s))>5"
   ]
  },
  {
   "cell_type": "code",
   "execution_count": 44,
   "id": "6e0e0c52",
   "metadata": {},
   "outputs": [],
   "source": [
    "def convert_to_dark_mode(images, mode):\n",
    "    \n",
    "    new_images = []\n",
    "    for image in images:\n",
    "        if detect_color_image(np.array(image)):\n",
    "            new_images.append(image)\n",
    "        else:\n",
    "            cv2_image = np.array(image)\n",
    "\n",
    "            if mode < 0:\n",
    "                new_image = cv2.bitwise_not(cv2_image)\n",
    "            else:\n",
    "                new_image = cv2.applyColorMap(cv2.bitwise_not(cv2_image), mode)\n",
    "\n",
    "            new_images.append(Image.fromarray(new_image))    \n",
    "    return new_images"
   ]
  },
  {
   "cell_type": "code",
   "execution_count": 49,
   "id": "76a9bdf1",
   "metadata": {},
   "outputs": [],
   "source": [
    "sace_to_pdf(convert_to_dark_mode(images, -1), f\"{chapter_name}-bitwise_not\")"
   ]
  },
  {
   "cell_type": "code",
   "execution_count": null,
   "id": "e139a3b3",
   "metadata": {},
   "outputs": [],
   "source": [
    "# COLORMAP_PINK\n",
    "# COLORMAP_BONE\n",
    "# COLORMAP_DEEPGREEN\n",
    "# cv2.COLORMAP_HOT"
   ]
  },
  {
   "cell_type": "code",
   "execution_count": null,
   "id": "1499f030",
   "metadata": {},
   "outputs": [],
   "source": []
  }
 ],
 "metadata": {
  "kernelspec": {
   "display_name": "Python 3 (ipykernel)",
   "language": "python",
   "name": "python3"
  },
  "language_info": {
   "codemirror_mode": {
    "name": "ipython",
    "version": 3
   },
   "file_extension": ".py",
   "mimetype": "text/x-python",
   "name": "python",
   "nbconvert_exporter": "python",
   "pygments_lexer": "ipython3",
   "version": "3.9.1"
  }
 },
 "nbformat": 4,
 "nbformat_minor": 5
}
